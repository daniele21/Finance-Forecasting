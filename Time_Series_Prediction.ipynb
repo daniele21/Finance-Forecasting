{
 "cells": [
  {
   "cell_type": "code",
   "execution_count": null,
   "metadata": {
    "ExecuteTime": {
     "end_time": "2020-04-24T07:41:08.683912Z",
     "start_time": "2020-04-24T07:41:08.677451Z"
    },
    "cellView": "both",
    "colab": {},
    "colab_type": "code",
    "id": "D1J15Vh_1Jih"
   },
   "outputs": [],
   "source": [
    "try:\n",
    "  # %tensorflow_version only exists in Colab.\n",
    "  %tensorflow_version 2.x\n",
    "except Exception:\n",
    "  pass\n"
   ]
  },
  {
   "cell_type": "code",
   "execution_count": 1,
   "metadata": {
    "ExecuteTime": {
     "end_time": "2020-04-24T08:10:19.855021Z",
     "start_time": "2020-04-24T08:10:18.483645Z"
    },
    "colab": {
     "base_uri": "https://localhost:8080/",
     "height": 34
    },
    "colab_type": "code",
    "id": "BOjujz601HcS",
    "outputId": "06bb7ad9-e057-4756-a9c5-410235f5a243"
   },
   "outputs": [
    {
     "name": "stdout",
     "output_type": "stream",
     "text": [
      "2.1.0\n"
     ]
    }
   ],
   "source": [
    "import tensorflow as tf\n",
    "import numpy as np\n",
    "import matplotlib.pyplot as plt\n",
    "print(tf.__version__)"
   ]
  },
  {
   "cell_type": "code",
   "execution_count": null,
   "metadata": {
    "ExecuteTime": {
     "end_time": "2020-04-24T08:10:05.102506Z",
     "start_time": "2020-04-24T08:10:04.907911Z"
    },
    "colab": {
     "base_uri": "https://localhost:8080/",
     "height": 52
    },
    "colab_type": "code",
    "id": "RhIjHl0yTWkr",
    "outputId": "cd14d46b-f4b6-464f-a1c0-2fe347e1ced7"
   },
   "outputs": [],
   "source": [
    "import pandas as pd\n",
    "import numpy as np\n",
    "import seaborn as sn\n",
    "from matplotlib import pyplot as plt\n",
    "#%matplotlib notebook\n",
    "\n",
    "from datetime import datetime as dt\n",
    "from pandas_datareader import data as pdr"
   ]
  },
  {
   "cell_type": "code",
   "execution_count": null,
   "metadata": {
    "colab": {},
    "colab_type": "code",
    "id": "XbjbpebaTce-"
   },
   "outputs": [],
   "source": [
    "def plot_series(time, series, format=\"-\", start=0, end=None):\n",
    "    plt.plot(time[start:end], series[start:end], format)\n",
    "    plt.xlabel(\"Time\")\n",
    "    plt.ylabel(\"Value\")\n",
    "    plt.grid(True)\n",
    "\n",
    "def load_share(ticker, start, end):\n",
    "    \n",
    "    share = pdr.DataReader(ticker, 'yahoo', start, end)\n",
    "    \n",
    "    return share\n",
    "\n",
    "def load_shares(tickers, start, end):\n",
    "    df_data = pd.DataFrame()\n",
    "    df_return = pd.DataFrame()\n",
    "    \n",
    "    for ticker in tickers:\n",
    "        df_ticker = load_share(ticker, start, end)['Adj Close']\n",
    "        df_ticker.name = ticker\n",
    "        \n",
    "        df_return['{}_Log_Return'.format(ticker)] = np.log(df_ticker.shift(-1)) - np.log(df_ticker)\n",
    "        #display(df_share)\n",
    "        \n",
    "        df_data = df_data.join(df_ticker, how='right')\n",
    "        \n",
    "    return df_data, df_return"
   ]
  },
  {
   "cell_type": "code",
   "execution_count": null,
   "metadata": {
    "colab": {
     "base_uri": "https://localhost:8080/",
     "height": 238
    },
    "colab_type": "code",
    "id": "HXCicYp4TfXj",
    "outputId": "83ecfb7e-6d57-415c-9b9b-470908d8abf2"
   },
   "outputs": [],
   "source": [
    "# DAL --> Delta Airlines\n",
    "# UAL --> United Airlines\n",
    "# AAL --> American Airlines\n",
    "\n",
    "tickers = ['DAL', 'UAL', 'AAL', 'LHA.DE']\n",
    "start = dt(2019,1,1)\n",
    "\n",
    "today = dt.today()\n",
    "end = dt(today.year, today.month, today.day)\n",
    "\n",
    "df_shares, df_return = load_shares(tickers, start, end)\n",
    "df_shares.head()\n",
    "\n",
    "df_shares = df_shares.fillna(method='ffill')\n",
    "\n",
    "df_shares = df_shares.rename(columns={'LHA.DE':'LHA'})\n",
    "\n",
    "df_shares.head()"
   ]
  },
  {
   "cell_type": "code",
   "execution_count": null,
   "metadata": {
    "colab": {
     "base_uri": "https://localhost:8080/",
     "height": 34
    },
    "colab_type": "code",
    "id": "EAX7mnpDT9Bg",
    "outputId": "5ce02d46-eb9c-47a2-8300-cd27454d85b0"
   },
   "outputs": [],
   "source": [
    "series = df_shares.UAL.values\n",
    "len(series)"
   ]
  },
  {
   "cell_type": "code",
   "execution_count": null,
   "metadata": {
    "colab": {},
    "colab_type": "code",
    "id": "Zswl7jRtGzkk"
   },
   "outputs": [],
   "source": [
    "series = df_shares.UAL.values\n",
    "time = np.arange(0,len(series))\n",
    "\n",
    "split_time = 230\n",
    "\n",
    "time_train = time[:split_time]\n",
    "x_train = series[:split_time]\n",
    "\n",
    "time_valid = time[split_time:]\n",
    "x_valid = series[split_time:]\n",
    "\n",
    "window_size = 20\n",
    "batch_size = 32\n",
    "shuffle_buffer_size = 230"
   ]
  },
  {
   "cell_type": "code",
   "execution_count": null,
   "metadata": {
    "colab": {
     "base_uri": "https://localhost:8080/",
     "height": 388
    },
    "colab_type": "code",
    "id": "tVH2XEt4yA4m",
    "outputId": "e208b26a-5712-452c-f8b8-fd06709f171a"
   },
   "outputs": [],
   "source": [
    "plt.figure(figsize=(10, 6))\n",
    "plot_series(time_valid, x_valid)\n"
   ]
  },
  {
   "cell_type": "code",
   "execution_count": null,
   "metadata": {
    "colab": {},
    "colab_type": "code",
    "id": "4sTTIOCbyShY"
   },
   "outputs": [],
   "source": [
    "def windowed_dataset(series, window_size, batch_size, shuffle_buffer):\n",
    "  dataset = tf.data.Dataset.from_tensor_slices(series)\n",
    "  dataset = dataset.window(window_size + 1, shift=1, drop_remainder=True)\n",
    "  dataset = dataset.flat_map(lambda window: window.batch(window_size + 1))\n",
    "  dataset = dataset.shuffle(shuffle_buffer).map(lambda window: (window[:-1], window[-1]))\n",
    "  dataset = dataset.batch(batch_size).prefetch(1)\n",
    "  return dataset"
   ]
  },
  {
   "cell_type": "code",
   "execution_count": null,
   "metadata": {
    "colab": {},
    "colab_type": "code",
    "id": "TW-vT7eLYAdb"
   },
   "outputs": [],
   "source": [
    "dataset = windowed_dataset(x_train, window_size, batch_size, shuffle_buffer_size)\n",
    "\n",
    "\n",
    "model = tf.keras.models.Sequential([\n",
    "    tf.keras.layers.Dense(10, input_shape=[window_size], activation=\"relu\"), \n",
    "    tf.keras.layers.Dense(10, activation=\"relu\"), \n",
    "    tf.keras.layers.Dense(1)\n",
    "])\n",
    "\n",
    "model.compile(loss=\"mse\", optimizer=tf.keras.optimizers.SGD(lr=1e-6, momentum=0.9))\n",
    "hist = model.fit(dataset,epochs=100,verbose=0)\n",
    "\n",
    "\n"
   ]
  },
  {
   "cell_type": "code",
   "execution_count": null,
   "metadata": {
    "colab": {
     "base_uri": "https://localhost:8080/",
     "height": 388
    },
    "colab_type": "code",
    "id": "efhco2rYyIFF",
    "outputId": "692835f0-e475-426a-d07b-1af2611676d7"
   },
   "outputs": [],
   "source": [
    "forecast = []\n",
    "for time in range(len(series) - window_size):\n",
    "    forecast.append(model.predict(series[time:time + window_size][np.newaxis]))\n",
    "\n",
    "forecast = forecast[split_time-window_size:]\n",
    "results = np.array(forecast)[:, 0, 0]\n",
    "\n",
    "\n",
    "plt.figure(figsize=(10, 6))\n",
    "\n",
    "plot_series(time_valid, x_valid)\n",
    "plot_series(time_valid, results)"
   ]
  },
  {
   "cell_type": "code",
   "execution_count": null,
   "metadata": {
    "colab": {
     "base_uri": "https://localhost:8080/",
     "height": 34
    },
    "colab_type": "code",
    "id": "-kT6j186YO6K",
    "outputId": "02a6285b-9025-4566-d49e-e3de2f26ccf9"
   },
   "outputs": [],
   "source": [
    "tf.keras.metrics.mean_absolute_error(x_valid, results).numpy()"
   ]
  },
  {
   "cell_type": "code",
   "execution_count": null,
   "metadata": {
    "colab": {},
    "colab_type": "code",
    "id": "tnCe_nBKu7RB"
   },
   "outputs": [],
   "source": [
    "dataset = windowed_dataset(x_train, window_size, batch_size, shuffle_buffer_size)\n",
    "\n",
    "\n",
    "model = tf.keras.models.Sequential([\n",
    "    tf.keras.layers.Dense(10, input_shape=[window_size], activation=\"relu\"), \n",
    "    tf.keras.layers.Dense(10, activation=\"relu\"), \n",
    "    tf.keras.layers.Dense(1)\n",
    "])\n",
    "\n",
    "lr_schedule = tf.keras.callbacks.LearningRateScheduler(\n",
    "    lambda epoch: 1e-8 * 10**(epoch / 20))\n",
    "optimizer = tf.keras.optimizers.SGD(lr=1e-8, momentum=0.9)\n",
    "model.compile(loss=\"mse\", optimizer=optimizer)\n",
    "history = model.fit(dataset, epochs=100, callbacks=[lr_schedule], verbose=0)"
   ]
  },
  {
   "cell_type": "code",
   "execution_count": null,
   "metadata": {
    "colab": {
     "base_uri": "https://localhost:8080/",
     "height": 290
    },
    "colab_type": "code",
    "id": "2ZaNsM2IgCd_",
    "outputId": "c3645d19-bc29-48ac-e4f6-e8fd911191ad"
   },
   "outputs": [],
   "source": [
    "lrs = 1e-8 * (10 ** (np.arange(100) / 20))\n",
    "plt.semilogx(lrs, history.history[\"loss\"])\n",
    "plt.axis([1e-8, 1e-3, 0, 300])"
   ]
  },
  {
   "cell_type": "code",
   "execution_count": null,
   "metadata": {
    "colab": {},
    "colab_type": "code",
    "id": "QDwW0Q7ovYK1"
   },
   "outputs": [],
   "source": [
    "window_size = 30\n",
    "dataset = windowed_dataset(x_train, window_size, batch_size, shuffle_buffer_size)\n",
    "\n",
    "model = tf.keras.models.Sequential([\n",
    "  tf.keras.layers.Dense(10, activation=\"relu\", input_shape=[window_size]),\n",
    "  tf.keras.layers.Dense(10, activation=\"relu\"),\n",
    "  tf.keras.layers.Dense(1)\n",
    "])\n",
    "\n",
    "optimizer = tf.keras.optimizers.SGD(lr=1e-6, momentum=0.9)\n",
    "model.compile(loss=\"mse\", optimizer=optimizer)\n",
    "history = model.fit(dataset, epochs=500, verbose=0)"
   ]
  },
  {
   "cell_type": "code",
   "execution_count": null,
   "metadata": {
    "colab": {
     "base_uri": "https://localhost:8080/",
     "height": 265
    },
    "colab_type": "code",
    "id": "iXBMO1HM9AHX",
    "outputId": "36bcac3f-e882-4660-f334-25b401284f91"
   },
   "outputs": [],
   "source": [
    "loss = history.history['loss']\n",
    "epochs = range(len(loss))\n",
    "plt.plot(epochs, loss, 'b', label='Training Loss')\n",
    "plt.show()"
   ]
  },
  {
   "cell_type": "code",
   "execution_count": null,
   "metadata": {
    "colab": {
     "base_uri": "https://localhost:8080/",
     "height": 265
    },
    "colab_type": "code",
    "id": "xakiRU7R7WAo",
    "outputId": "b4bda1b7-e921-4ae0-930e-ac2938003360"
   },
   "outputs": [],
   "source": [
    "# Plot all but the first 10\n",
    "loss = history.history['loss']\n",
    "epochs = range(10, len(loss))\n",
    "plot_loss = loss[10:]\n",
    "#print(plot_loss)\n",
    "plt.plot(epochs, plot_loss, 'b', label='Training Loss')\n",
    "plt.show()"
   ]
  },
  {
   "cell_type": "code",
   "execution_count": null,
   "metadata": {
    "colab": {
     "base_uri": "https://localhost:8080/",
     "height": 388
    },
    "colab_type": "code",
    "id": "YUOPUeHWvvBG",
    "outputId": "125a1862-13cb-468b-c12b-7305835914dd"
   },
   "outputs": [],
   "source": [
    "forecast = []\n",
    "for time in range(len(series) - window_size):\n",
    "  forecast.append(model.predict(series[time:time + window_size][np.newaxis]))\n",
    "\n",
    "forecast = forecast[split_time-window_size:]\n",
    "results = np.array(forecast)[:, 0, 0]\n",
    "\n",
    "\n",
    "plt.figure(figsize=(10, 6))\n",
    "\n",
    "plot_series(time_valid, x_valid)\n",
    "plot_series(time_valid, results)"
   ]
  },
  {
   "cell_type": "code",
   "execution_count": null,
   "metadata": {
    "colab": {
     "base_uri": "https://localhost:8080/",
     "height": 34
    },
    "colab_type": "code",
    "id": "W-GPjL2wv0yc",
    "outputId": "5e482494-1b0d-4b8f-e5dc-114d539fad99"
   },
   "outputs": [],
   "source": [
    "tf.keras.metrics.mean_absolute_error(x_valid, results).numpy()"
   ]
  },
  {
   "cell_type": "markdown",
   "metadata": {
    "colab_type": "text",
    "id": "l_o0sHX2V3HH"
   },
   "source": [
    "Prediction"
   ]
  },
  {
   "cell_type": "code",
   "execution_count": null,
   "metadata": {
    "colab": {
     "base_uri": "https://localhost:8080/",
     "height": 34
    },
    "colab_type": "code",
    "id": "eTtEnJt-V_MY",
    "outputId": "1a4cd6a5-6bda-4f76-a71a-6f60f3e12fcc"
   },
   "outputs": [],
   "source": [
    "series = df_shares.UAL.values\n",
    "len(series)"
   ]
  },
  {
   "cell_type": "code",
   "execution_count": null,
   "metadata": {
    "colab": {
     "base_uri": "https://localhost:8080/",
     "height": 279
    },
    "colab_type": "code",
    "id": "J1O6CYKxV0-A",
    "outputId": "a51c362c-15fd-405b-a793-f291b9a1046e"
   },
   "outputs": [],
   "source": [
    "time = np.arange(0,len(series))\n",
    "\n",
    "time_train = time[:]\n",
    "x_train = series[:]\n",
    "\n",
    "window_size = 20\n",
    "batch_size = 32\n",
    "shuffle_buffer_size = 230\n",
    "\n",
    "plot_series(time, series)"
   ]
  },
  {
   "cell_type": "code",
   "execution_count": null,
   "metadata": {
    "colab": {},
    "colab_type": "code",
    "id": "tVgkJHa7WFR5"
   },
   "outputs": [],
   "source": [
    "window_size = 30\n",
    "dataset = windowed_dataset(x_train, window_size, batch_size, shuffle_buffer_size)\n",
    "\n",
    "model = tf.keras.models.Sequential([\n",
    "  tf.keras.layers.Dense(10, activation=\"relu\", input_shape=[window_size]),\n",
    "  tf.keras.layers.Dense(10, activation=\"relu\"),\n",
    "  tf.keras.layers.Dense(1)\n",
    "])\n",
    "\n",
    "optimizer = tf.keras.optimizers.SGD(lr=1e-6, momentum=0.9)\n",
    "model.compile(loss=\"mse\", optimizer=optimizer)\n",
    "history = model.fit(dataset, epochs=500, verbose=0)"
   ]
  },
  {
   "cell_type": "code",
   "execution_count": null,
   "metadata": {
    "colab": {
     "base_uri": "https://localhost:8080/",
     "height": 265
    },
    "colab_type": "code",
    "id": "kwo3ofFOWOAX",
    "outputId": "64fd0977-905a-4b3d-c531-73c02403c42e"
   },
   "outputs": [],
   "source": [
    "loss = history.history['loss']\n",
    "epochs = range(len(loss))\n",
    "plt.plot(epochs, loss, 'b', label='Training Loss')\n",
    "plt.show()"
   ]
  },
  {
   "cell_type": "code",
   "execution_count": null,
   "metadata": {
    "colab": {
     "base_uri": "https://localhost:8080/",
     "height": 266
    },
    "colab_type": "code",
    "id": "02AXruJaWKjm",
    "outputId": "10744076-e4f6-4a44-82f8-2258a2919178"
   },
   "outputs": [],
   "source": [
    "# Plot all but the first 10\n",
    "loss = history.history['loss']\n",
    "epochs = range(10, len(loss))\n",
    "plot_loss = loss[10:]\n",
    "#print(plot_loss)\n",
    "plt.plot(epochs, plot_loss, 'b', label='Training Loss')\n",
    "plt.show()"
   ]
  },
  {
   "cell_type": "code",
   "execution_count": null,
   "metadata": {
    "colab": {
     "base_uri": "https://localhost:8080/",
     "height": 34
    },
    "colab_type": "code",
    "id": "CAI7imp1cFql",
    "outputId": "83b4c9c4-1f84-45cb-c5ec-523fff541656"
   },
   "outputs": [],
   "source": [
    "range(len(series) - window_size)"
   ]
  },
  {
   "cell_type": "code",
   "execution_count": null,
   "metadata": {
    "colab": {
     "base_uri": "https://localhost:8080/",
     "height": 395
    },
    "colab_type": "code",
    "id": "KktNtAM-WTC8",
    "outputId": "648a7d54-69e2-4ee8-f927-65ede1e01ba1"
   },
   "outputs": [],
   "source": [
    "forecast = []\n",
    "for time in range(len(series) - window_size):\n",
    "  forecast.append(model.predict(series[time:time + window_size][np.newaxis]))\n",
    "\n",
    "#forecast = forecast[split_time-window_size:]\n",
    "results = np.array(forecast)[:, 0, 0]\n",
    "\n",
    "\n",
    "plt.figure(figsize=(10, 6))\n",
    "plt.plot(results)\n",
    "#plot_series(time_valid, x_valid)\n",
    "#plot_series(time_valid, results)"
   ]
  },
  {
   "cell_type": "code",
   "execution_count": null,
   "metadata": {
    "colab": {
     "base_uri": "https://localhost:8080/",
     "height": 34
    },
    "colab_type": "code",
    "id": "oQDG4VmaWXyK",
    "outputId": "bb5c209a-4f59-4239-eb2f-9971b6571c5a"
   },
   "outputs": [],
   "source": [
    "tf.keras.metrics.mean_absolute_error(x_valid, results).numpy()"
   ]
  },
  {
   "cell_type": "code",
   "execution_count": null,
   "metadata": {
    "colab": {
     "base_uri": "https://localhost:8080/",
     "height": 282
    },
    "colab_type": "code",
    "id": "HujFHNdhlSon",
    "outputId": "e8e5217f-32c6-420b-ab73-20d28b28c317"
   },
   "outputs": [],
   "source": [
    "prediction = series\n",
    "#left_bound_confidence = np.zeros(len(prediction))\n",
    "#right_bound_confidence = np.zeros(len(prediction))\n",
    "left_bound_confidence = []\n",
    "right_bound_confidence = []\n",
    "\n",
    "\n",
    "z_left = norm.ppf(0.05)\n",
    "z_right = norm.ppf(0.95)\n",
    "\n",
    "for i in range(30):\n",
    "  window = prediction[x+i:x+i+30]\n",
    "  new_value = model.predict(window[np.newaxis])\n",
    "  prediction = np.append(prediction, new_value)\n",
    "\n",
    "  interval_left = z_left*window.std() + window.mean()\n",
    "  interval_right = z_right*window.std() + window.mean()\n",
    "\n",
    "  left_bound_confidence.append(interval_left)\n",
    "  right_bound_confidence.append(interval_right)\n",
    "  #right_bound_confidence.append(interval_right)\n",
    "\n",
    "x_axis = np.arange(len(prediction)-30, len(prediction))\n",
    "\n",
    "plt.plot(prediction)\n",
    "plt.plot(x_axis, np.array(left_bound_confidence), c='r')\n",
    "plt.plot(x_axis, np.array(right_bound_confidence), c='r')\n",
    "#plt.fill_between([len(prediction), len(prediction)+30], np.array(left_bound_confidence), np.array(right_bound_confidence))"
   ]
  },
  {
   "cell_type": "code",
   "execution_count": null,
   "metadata": {
    "colab": {
     "base_uri": "https://localhost:8080/",
     "height": 34
    },
    "colab_type": "code",
    "id": "Icm9bpvmteHO",
    "outputId": "766d1213-cdbf-4d2b-d980-38dc65df48dd"
   },
   "outputs": [],
   "source": [
    "len(right_bound_confidence)"
   ]
  },
  {
   "cell_type": "code",
   "execution_count": null,
   "metadata": {
    "colab": {
     "base_uri": "https://localhost:8080/",
     "height": 300
    },
    "colab_type": "code",
    "id": "DcPDFnCBjE1O",
    "outputId": "8be5f279-c518-4ea5-fb3a-7cd3886b396f"
   },
   "outputs": [],
   "source": [
    "from scipy.stats import norm\n",
    "\n",
    "# left and right quantile\n",
    "z_left = norm.ppf(0.05)\n",
    "z_right = norm.ppf(0.95)\n",
    "\n",
    "# upper and lower bound\n",
    "interval_left = z_left*series.std() + series.mean()\n",
    "interval_right = z_right*series.std() + series.mean()\n",
    "\n",
    "print('90% confidence interval is ', (interval_left, interval_right))\n",
    "plt.plot(prediction)\n",
    "plt.fill_between([len(series), len(series)+30], interval_left, interval_right)"
   ]
  },
  {
   "cell_type": "code",
   "execution_count": null,
   "metadata": {
    "colab": {
     "base_uri": "https://localhost:8080/",
     "height": 34
    },
    "colab_type": "code",
    "id": "P4Lh_FYYXyLM",
    "outputId": "965d5240-0b9a-4a36-bee7-bc72e99cae4b"
   },
   "outputs": [],
   "source": [
    "time_pred = np.arange(0, 500)\n",
    "\n",
    "x = 240\n",
    "model.predict(time_pred[x:x+30][np.newaxis])"
   ]
  },
  {
   "cell_type": "code",
   "execution_count": null,
   "metadata": {
    "colab": {
     "base_uri": "https://localhost:8080/",
     "height": 34
    },
    "colab_type": "code",
    "id": "38wK_QatcRE-",
    "outputId": "8128bfd5-a235-457f-da3e-f2eb2e4a9291"
   },
   "outputs": [],
   "source": [
    "x = len(series) - 30\n",
    "model.predict(series[x:x+30][np.newaxis])"
   ]
  },
  {
   "cell_type": "code",
   "execution_count": null,
   "metadata": {
    "colab": {
     "base_uri": "https://localhost:8080/",
     "height": 121
    },
    "colab_type": "code",
    "id": "VSyejDKthgU2",
    "outputId": "b642d8f9-73b5-4047-f5d6-08baf58816fc"
   },
   "outputs": [],
   "source": [
    "series[x:x+30][np.newaxis]"
   ]
  },
  {
   "cell_type": "code",
   "execution_count": null,
   "metadata": {
    "colab": {},
    "colab_type": "code",
    "id": "LmRf9NrZhspv"
   },
   "outputs": [],
   "source": []
  }
 ],
 "metadata": {
  "colab": {
   "name": "Time-Series Prediction.ipynb",
   "provenance": [],
   "toc_visible": true
  },
  "kernelspec": {
   "display_name": "Python 3",
   "language": "python",
   "name": "python3"
  },
  "language_info": {
   "codemirror_mode": {
    "name": "ipython",
    "version": 3
   },
   "file_extension": ".py",
   "mimetype": "text/x-python",
   "name": "python",
   "nbconvert_exporter": "python",
   "pygments_lexer": "ipython3",
   "version": "3.7.3"
  },
  "toc": {
   "base_numbering": 1,
   "nav_menu": {},
   "number_sections": true,
   "sideBar": true,
   "skip_h1_title": false,
   "title_cell": "Table of Contents",
   "title_sidebar": "Contents",
   "toc_cell": false,
   "toc_position": {},
   "toc_section_display": true,
   "toc_window_display": false
  },
  "varInspector": {
   "cols": {
    "lenName": 16,
    "lenType": 16,
    "lenVar": 40
   },
   "kernels_config": {
    "python": {
     "delete_cmd_postfix": "",
     "delete_cmd_prefix": "del ",
     "library": "var_list.py",
     "varRefreshCmd": "print(var_dic_list())"
    },
    "r": {
     "delete_cmd_postfix": ") ",
     "delete_cmd_prefix": "rm(",
     "library": "var_list.r",
     "varRefreshCmd": "cat(var_dic_list()) "
    }
   },
   "types_to_exclude": [
    "module",
    "function",
    "builtin_function_or_method",
    "instance",
    "_Feature"
   ],
   "window_display": false
  }
 },
 "nbformat": 4,
 "nbformat_minor": 1
}
